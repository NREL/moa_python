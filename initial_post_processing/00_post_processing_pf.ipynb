{
 "cells": [
  {
   "cell_type": "markdown",
   "metadata": {},
   "source": [
    "# 00 Attempt at post processing"
   ]
  },
  {
   "cell_type": "markdown",
   "metadata": {},
   "source": [
    "Based on tools and scripts provided by Michael Brazell and Lawrence Cheung"
   ]
  },
  {
   "cell_type": "markdown",
   "metadata": {},
   "source": [
    "Utilize the abl_stats class to carry out post processing"
   ]
  },
  {
   "cell_type": "markdown",
   "metadata": {},
   "source": [
    "See https://github.com/Exawind/amr-wind-frontend/blob/main/docs/casestudies/SWIFT/Postprocessing.ipynb"
   ]
  },
  {
   "cell_type": "code",
   "execution_count": 1,
   "metadata": {},
   "outputs": [],
   "source": [
    "import numpy as np\n",
    "from matplotlib.backends.backend_pdf import PdfPages\n",
    "import matplotlib.pyplot as plt\n",
    "import netCDF4 as ncdf\n",
    "import pandas as pd\n",
    "import os"
   ]
  },
  {
   "cell_type": "code",
   "execution_count": 2,
   "metadata": {},
   "outputs": [],
   "source": [
    "from moa_python.abl_stats import Abl_stats"
   ]
  },
  {
   "cell_type": "markdown",
   "metadata": {},
   "source": [
    "## Parameters"
   ]
  },
  {
   "cell_type": "code",
   "execution_count": 3,
   "metadata": {},
   "outputs": [],
   "source": [
    "case_folder = '/scratch/pfleming/c2c/000_paul_tries_precursor'\n",
    "post_processing_file = 'post_processing/abl_statistics00000.nc'"
   ]
  },
  {
   "cell_type": "code",
   "execution_count": 4,
   "metadata": {},
   "outputs": [],
   "source": [
    "full_filename = os.path.join(case_folder,post_processing_file )"
   ]
  },
  {
   "cell_type": "markdown",
   "metadata": {},
   "source": [
    "## Load the data"
   ]
  },
  {
   "cell_type": "code",
   "execution_count": 6,
   "metadata": {},
   "outputs": [
    {
     "name": "stdout",
     "output_type": "stream",
     "text": [
      "Object is composed of 1 and time runs from 0.5 to 22000.0\n",
      "<class 'netCDF4._netCDF4.Dataset'>\n",
      "root group (NETCDF4 data model, file format HDF5):\n",
      "    title: AMR-Wind ABL statistics output\n",
      "    version: 642185772586\n",
      "    created_on: Thu Dec  8 16:51:43 2022\n",
      "\n",
      "    dimensions(sizes): num_time_steps(44000), ndim(3)\n",
      "    variables(dimensions): float64 time(num_time_steps), float64 Q(num_time_steps), float64 Tsurf(num_time_steps), float64 ustar(num_time_steps), float64 wstar(num_time_steps), float64 L(num_time_steps), float64 zi(num_time_steps), float64 abl_forcing_x(num_time_steps), float64 abl_forcing_y(num_time_steps)\n",
      "    groups: mean_profiles\n"
     ]
    }
   ],
   "source": [
    "abl = Abl_stats([full_filename])"
   ]
  },
  {
   "cell_type": "markdown",
   "metadata": {},
   "source": [
    "## Visualize vertical velocity"
   ]
  },
  {
   "cell_type": "code",
   "execution_count": 7,
   "metadata": {},
   "outputs": [
    {
     "data": {
      "image/png": "[encoded data removed]",
      "text/plain": [
       "<Figure size 640x480 with 1 Axes>"
      ]
     },
     "metadata": {},
     "output_type": "display_data"
    }
   ],
   "source": [
    "abl.plot_vert_vel_profile(10000,20000) # Show vertical velocity averaged 10000-20000 s"
   ]
  },
  {
   "cell_type": "code",
   "execution_count": null,
   "metadata": {},
   "outputs": [],
   "source": [
    "\n",
    "abs.get_time_series_at_height('u', 1000)"
   ]
  },
  {
   "cell_type": "code",
   "execution_count": null,
   "metadata": {},
   "outputs": [],
   "source": []
  },
  {
   "cell_type": "markdown",
   "metadata": {},
   "source": [
    "## Define a class to help organize this"
   ]
  },
  {
   "cell_type": "code",
   "execution_count": 59,
   "metadata": {},
   "outputs": [
    {
     "name": "stdout",
     "output_type": "stream",
     "text": [
      "Object is composed of 1 and time runs from 0.5 to 22000.0\n",
      "<class 'netCDF4._netCDF4.Dataset'>\n",
      "root group (NETCDF4 data model, file format HDF5):\n",
      "    title: AMR-Wind ABL statistics output\n",
      "    version: 642185772586\n",
      "    created_on: Thu Dec  8 16:51:43 2022\n",
      "\n",
      "    dimensions(sizes): num_time_steps(44000), ndim(3)\n",
      "    variables(dimensions): float64 time(num_time_steps), float64 Q(num_time_steps), float64 Tsurf(num_time_steps), float64 ustar(num_time_steps), float64 wstar(num_time_steps), float64 L(num_time_steps), float64 zi(num_time_steps), float64 abl_forcing_x(num_time_steps), float64 abl_forcing_y(num_time_steps)\n",
      "    groups: mean_profiles\n",
      "Nearest height to 1000 is 989.5833333333333\n"
     ]
    },
    {
     "data": {
      "text/plain": [
       "array([10.        , 10.        , 10.        , ...,  9.78619061,\n",
       "        9.78619943,  9.78620834])"
      ]
     },
     "execution_count": 59,
     "metadata": {},
     "output_type": "execute_result"
    }
   ],
   "source": [
    "class Abl_stats:\n",
    "    \n",
    "    def __init__(self, filenames):\n",
    "        \n",
    "        # If only one filename passed in\n",
    "        # Convert to list for consistency\n",
    "        if not isinstance(filenames, (list, tuple, np.ndarray)):\n",
    "            filenames = [filenames]\n",
    "        \n",
    "        self.Nfiles = len(filenames)\n",
    "        \n",
    "        # Load the datasets\n",
    "        self.dataset_list = []\n",
    "        for filename in filenames:\n",
    "            self.dataset_list.append(ncdf.Dataset(filename))\n",
    "        \n",
    "        # Read time\n",
    "        self.time = self.get_variable_from_abl_stats('time')\n",
    "        self.num_time_steps = len(self.time)\n",
    "        \n",
    "        # Save the mean profiles\n",
    "        self.mean_profiles = self.get_group_from_abl_stats('mean_profiles')\n",
    "        \n",
    "        # Save the z-levels\n",
    "        self.z = self.get_data_from_mean_profiles('h')\n",
    "        \n",
    "        # Print a quick summar\n",
    "        self.summary()\n",
    "        \n",
    "    def summary(self):\n",
    "        \n",
    "        print(f\"Object is composed of {self.Nfiles} and time runs from {self.time[0]} to {self.time[-1]}\")\n",
    "        print(self.dataset_list[0])\n",
    "        \n",
    "    def get_variable_from_abl_stats(self, variablename):\n",
    "        \"\"\"\n",
    "        Reads requested variable from dataset_list and puts data into arrays\n",
    "        \n",
    "        Args in:\n",
    "            variable (str): the name of the group.\n",
    "\n",
    "        Args out:\n",
    "            data (class 'netCDF4._netCDF4.Group'): the requested group(s)\n",
    "        \"\"\"\n",
    "\n",
    "        data = np.array([])\n",
    "        for i in range(self.Nfiles):\n",
    "            data = np.append(data,self.dataset_list[i].variables[variablename])\n",
    "\n",
    "        return data\n",
    "        \n",
    "    def get_group_from_abl_stats(self, groupname):\n",
    "        \"\"\"\n",
    "        Reads requested data from dataset_list and puts data into arrays\n",
    "        \n",
    "        Args in:\n",
    "            variable (str): the name of the group.\n",
    "\n",
    "        Args out:\n",
    "            data (class 'netCDF4._netCDF4.Group'): the requested group(s)\n",
    "        \"\"\"\n",
    "\n",
    "        data = np.array([])\n",
    "        for i in range(self.Nfiles):\n",
    "            data = np.append(data,self.dataset_list[i].groups[groupname])\n",
    "\n",
    "        return data\n",
    "    \n",
    "    \n",
    "    def get_data_from_group(self, \n",
    "        group,\n",
    "        variable\n",
    "    ):\n",
    "        \"\"\"\n",
    "        Reads requested data from within a group and returns array\n",
    "\n",
    "        Args in:\n",
    "            group (class 'netCDF4._netCDF4.Group' or class 'numpy.ndarray'): \n",
    "                group or array of groups as obtained from .nc-file(s).\n",
    "            variable (str): the required variable to be extracted from group.\n",
    "\n",
    "        Args out:\n",
    "            data (class 'numpy.ndarray'): the requested variable\n",
    "        \"\"\"\n",
    "\n",
    "        for i in range(self.Nfiles):\n",
    "            \n",
    "            variablenames = list(group[i].variables.keys())\n",
    "\n",
    "            if variable in variablenames:\n",
    "                if i == 0:\n",
    "                    data = np.array(np.array(group[i].variables[variable]))\n",
    "                else:\n",
    "                    data = np.append(data,np.array(group[i].variables[variable]),axis=0)\n",
    "            else:\n",
    "                raise ValueError(f'The specified variable was not found in the given group. \\n Available variables: {variablenames} \\n Requested variable: {variable}')\n",
    "\n",
    "\n",
    "        return data\n",
    "    \n",
    "    def get_data_from_mean_profiles(self, variable\n",
    "    ):\n",
    "        \n",
    "        \"\"\"\n",
    "        Reads requested data from mean profile and returns array\n",
    "\n",
    "        Args in:\n",
    "            group (class 'netCDF4._netCDF4.Group' or class 'numpy.ndarray'): \n",
    "                group or array of groups as obtained from .nc-file(s).\n",
    "            variable (str): the required variable to be extracted from group.\n",
    "\n",
    "        Args out:\n",
    "            data (class 'numpy.ndarray'): the requested variable\n",
    "        \"\"\"\n",
    "        return self.get_data_from_group(self.mean_profiles, variable)\n",
    "    \n",
    "    def time_average_data(self, x, t_min=None, t_max=None):\n",
    "        \n",
    "        \"\"\"\n",
    "        Averages the data (x) over time period [t_min, t_max)\n",
    "\n",
    "        Args in:\n",
    "            x (class 'numpy.ndarray'): \n",
    "                an np.array of length = self.num_time_steps\n",
    "            t_min (float): time to start averaging (inclusive)\n",
    "                if None, defaults to self.time[0]\n",
    "            t_max (float): time to stop averaging (non-inclusive)\n",
    "                if None, defaults to self.time[-1]\n",
    "\n",
    "        Args out:\n",
    "            data (class 'numpy.ndarray'): time averaged data\n",
    "        \"\"\"\n",
    "        \n",
    "        # Set defaults\n",
    "        if t_min is None:\n",
    "            t_min = self.time[0]\n",
    "        if t_max is None:\n",
    "            t_max = self.time[-1]\n",
    "            \n",
    "        # Check for out of bounds\n",
    "        if t_min < self.time[0]:\n",
    "            raise ValueError(f'T_min ({t_min}) is less than the minimum time ({self.time[0]})')\n",
    "        if t_max > self.time[-1]:\n",
    "            raise ValueError(f'T_max ({t_max}) is greater than the maximum time ({self.time[-1]})')\n",
    "            \n",
    "        # Find time indices within time\n",
    "        t_min_idx = np.argmax(self.time >= t_min)\n",
    "        t_max_idx = np.argmax(self.time >= t_max)\n",
    "        \n",
    "        # Perform the average and return\n",
    "        return np.mean(x[t_min_idx:t_max_idx],axis=0)\n",
    "    \n",
    "    def plot_vert_vel_profile(self, t_min=None, t_max=None, ax=None):\n",
    "        \"\"\"\n",
    "        Plot the vertical velocity profile over an averaging\n",
    "        period of [t_min, t_max]\n",
    "\n",
    "        Args in:\n",
    "            t_min (float): time to start averaging (inclusive)\n",
    "            t_max (float): time to stop averaging (non-inclusive)\n",
    "            ax (:py:class:'matplotlib.pyplot.axes', optional):\n",
    "                figure axes. Defaults to None.\n",
    "        \"\"\"\n",
    "        if ax is None:\n",
    "            fig, ax = plt.subplots()\n",
    "            \n",
    "        u = self.get_data_from_mean_profiles('u')\n",
    "        u_avg = self.time_average_data(u, t_min, t_max)\n",
    "        \n",
    "        ax.plot(u_avg, self.z)\n",
    "        ax.set_xlabel(\"U m/s\")\n",
    "        ax.set_ylabel(\"Height [m]\")\n",
    "        xmax = (np.max(u_avg)+1)\n",
    "        ax.set_xlim([0, xmax])\n",
    "        ax.grid(True)\n",
    "        \n",
    "    def get_time_series_at_height(self, variable, height):\n",
    "        \"\"\"\n",
    "        Return the values of a variable within the mean_profiles for a specific height\n",
    "\n",
    "        Args in:\n",
    "            variable (str): the required variable to be extracted from group.\n",
    "            height (float): the height to extract, if not a value of self.z, will use nearest\n",
    "\n",
    "        Args out:\n",
    "            data (class 'numpy.ndarray'): the requested variable\n",
    "        \"\"\"\n",
    "        \n",
    "        # Identify nearest height\n",
    "        h_idx = np.argmin(np.abs(self.z - height))\n",
    "        print(f'Nearest height to {height} is {self.z[h_idx]}')\n",
    "        \n",
    "        # Get the data\n",
    "        x = self.get_data_from_mean_profiles(variable)\n",
    "        \n",
    "        # Return at height\n",
    "        return np.squeeze(x[:,h_idx])\n",
    "    \n",
    "        \n",
    "        \n",
    "\n",
    "    \n",
    "        \n"
   ]
  },
  {
   "cell_type": "code",
   "execution_count": 15,
   "metadata": {},
   "outputs": [
    {
     "data": {
      "text/plain": [
       "True"
      ]
     },
     "execution_count": 15,
     "metadata": {},
     "output_type": "execute_result"
    }
   ],
   "source": []
  },
  {
   "cell_type": "code",
   "execution_count": null,
   "metadata": {},
   "outputs": [],
   "source": []
  },
  {
   "cell_type": "code",
   "execution_count": null,
   "metadata": {},
   "outputs": [],
   "source": []
  },
  {
   "cell_type": "markdown",
   "metadata": {},
   "source": [
    "## Load the thing"
   ]
  },
  {
   "cell_type": "code",
   "execution_count": null,
   "metadata": {},
   "outputs": [],
   "source": [
    "mpp.get_group_from_abl_stats(case_folder,post_processing_file,groupname)"
   ]
  },
  {
   "cell_type": "code",
   "execution_count": null,
   "metadata": {},
   "outputs": [],
   "source": []
  },
  {
   "cell_type": "code",
   "execution_count": null,
   "metadata": {},
   "outputs": [],
   "source": []
  },
  {
   "cell_type": "markdown",
   "metadata": {},
   "source": [
    "## Load data"
   ]
  },
  {
   "cell_type": "markdown",
   "metadata": {},
   "source": [
    "New to this library so just flagging\n",
    "\n",
    "https://unidata.github.io/netcdf4-python/"
   ]
  },
  {
   "cell_type": "code",
   "execution_count": 5,
   "metadata": {},
   "outputs": [],
   "source": [
    "d1 = ncdf.Dataset(os.path.join(case_folder,post_processing_file ))"
   ]
  },
  {
   "cell_type": "code",
   "execution_count": 6,
   "metadata": {},
   "outputs": [
    {
     "name": "stdout",
     "output_type": "stream",
     "text": [
      "<class 'netCDF4._netCDF4.Dataset'>\n",
      "root group (NETCDF4 data model, file format HDF5):\n",
      "    title: AMR-Wind ABL statistics output\n",
      "    version: 642185772586\n",
      "    created_on: Thu Dec  8 16:51:43 2022\n",
      "\n",
      "    dimensions(sizes): num_time_steps(44000), ndim(3)\n",
      "    variables(dimensions): float64 time(num_time_steps), float64 Q(num_time_steps), float64 Tsurf(num_time_steps), float64 ustar(num_time_steps), float64 wstar(num_time_steps), float64 L(num_time_steps), float64 zi(num_time_steps), float64 abl_forcing_x(num_time_steps), float64 abl_forcing_y(num_time_steps)\n",
      "    groups: mean_profiles\n"
     ]
    }
   ],
   "source": [
    "print(d1)"
   ]
  },
  {
   "cell_type": "code",
   "execution_count": 7,
   "metadata": {
    "scrolled": true
   },
   "outputs": [
    {
     "data": {
      "text/plain": [
       "['__class__',\n",
       " '__delattr__',\n",
       " '__dir__',\n",
       " '__doc__',\n",
       " '__enter__',\n",
       " '__eq__',\n",
       " '__exit__',\n",
       " '__format__',\n",
       " '__ge__',\n",
       " '__getattr__',\n",
       " '__getattribute__',\n",
       " '__getitem__',\n",
       " '__gt__',\n",
       " '__hash__',\n",
       " '__init__',\n",
       " '__init_subclass__',\n",
       " '__le__',\n",
       " '__lt__',\n",
       " '__ne__',\n",
       " '__new__',\n",
       " '__orthogonal_indexing__',\n",
       " '__reduce__',\n",
       " '__reduce_ex__',\n",
       " '__repr__',\n",
       " '__setattr__',\n",
       " '__sizeof__',\n",
       " '__str__',\n",
       " '__subclasshook__',\n",
       " '_close',\n",
       " '_close_mem',\n",
       " '_enddef',\n",
       " '_getname',\n",
       " '_grpid',\n",
       " '_isopen',\n",
       " '_ncstring_attrs__',\n",
       " '_redef',\n",
       " 'close',\n",
       " 'cmptypes',\n",
       " 'createCompoundType',\n",
       " 'createDimension',\n",
       " 'createEnumType',\n",
       " 'createGroup',\n",
       " 'createVLType',\n",
       " 'createVariable',\n",
       " 'created_on',\n",
       " 'data_model',\n",
       " 'delncattr',\n",
       " 'dimensions',\n",
       " 'disk_format',\n",
       " 'enumtypes',\n",
       " 'file_format',\n",
       " 'filepath',\n",
       " 'fromcdl',\n",
       " 'get_variables_by_attributes',\n",
       " 'getncattr',\n",
       " 'groups',\n",
       " 'has_blosc_filter',\n",
       " 'has_bzip2_filter',\n",
       " 'has_szip_filter',\n",
       " 'has_zstd_filter',\n",
       " 'isopen',\n",
       " 'keepweakref',\n",
       " 'name',\n",
       " 'ncattrs',\n",
       " 'parent',\n",
       " 'path',\n",
       " 'renameAttribute',\n",
       " 'renameDimension',\n",
       " 'renameGroup',\n",
       " 'renameVariable',\n",
       " 'set_always_mask',\n",
       " 'set_auto_chartostring',\n",
       " 'set_auto_mask',\n",
       " 'set_auto_maskandscale',\n",
       " 'set_auto_scale',\n",
       " 'set_fill_off',\n",
       " 'set_fill_on',\n",
       " 'set_ncstring_attrs',\n",
       " 'setncattr',\n",
       " 'setncattr_string',\n",
       " 'setncatts',\n",
       " 'sync',\n",
       " 'title',\n",
       " 'tocdl',\n",
       " 'variables',\n",
       " 'version',\n",
       " 'vltypes']"
      ]
     },
     "execution_count": 7,
     "metadata": {},
     "output_type": "execute_result"
    }
   ],
   "source": [
    "dir(d1)"
   ]
  },
  {
   "cell_type": "markdown",
   "metadata": {},
   "source": [
    "## Try unpacking the dataset"
   ]
  },
  {
   "cell_type": "code",
   "execution_count": 8,
   "metadata": {},
   "outputs": [
    {
     "data": {
      "text/plain": [
       "{'mean_profiles': <class 'netCDF4._netCDF4.Group'>\n",
       " group /mean_profiles:\n",
       "     dimensions(sizes): nlevels(48)\n",
       "     variables(dimensions): float64 h(nlevels), float64 u(num_time_steps, nlevels), float64 v(num_time_steps, nlevels), float64 w(num_time_steps, nlevels), float64 hvelmag(num_time_steps, nlevels), float64 theta(num_time_steps, nlevels), float64 mueff(num_time_steps, nlevels), float64 theta'theta'_r(num_time_steps, nlevels), float64 u'theta'_r(num_time_steps, nlevels), float64 v'theta'_r(num_time_steps, nlevels), float64 w'theta'_r(num_time_steps, nlevels), float64 u'u'_r(num_time_steps, nlevels), float64 u'v'_r(num_time_steps, nlevels), float64 u'w'_r(num_time_steps, nlevels), float64 v'v'_r(num_time_steps, nlevels), float64 v'w'_r(num_time_steps, nlevels), float64 w'w'_r(num_time_steps, nlevels), float64 u'u'u'_r(num_time_steps, nlevels), float64 v'v'v'_r(num_time_steps, nlevels), float64 w'w'w'_r(num_time_steps, nlevels), float64 u'theta'_sfs(num_time_steps, nlevels), float64 v'theta'_sfs(num_time_steps, nlevels), float64 w'theta'_sfs(num_time_steps, nlevels), float64 u'v'_sfs(num_time_steps, nlevels), float64 u'w'_sfs(num_time_steps, nlevels), float64 v'w'_sfs(num_time_steps, nlevels)\n",
       "     groups: }"
      ]
     },
     "execution_count": 8,
     "metadata": {},
     "output_type": "execute_result"
    }
   ],
   "source": [
    "d1.groups"
   ]
  },
  {
   "cell_type": "code",
   "execution_count": 9,
   "metadata": {},
   "outputs": [],
   "source": [
    "g1 = d1.groups[\"mean_profiles\"]"
   ]
  },
  {
   "cell_type": "code",
   "execution_count": 10,
   "metadata": {},
   "outputs": [
    {
     "name": "stdout",
     "output_type": "stream",
     "text": [
      "<class 'netCDF4._netCDF4.Group'>\n",
      "group /mean_profiles:\n",
      "    dimensions(sizes): nlevels(48)\n",
      "    variables(dimensions): float64 h(nlevels), float64 u(num_time_steps, nlevels), float64 v(num_time_steps, nlevels), float64 w(num_time_steps, nlevels), float64 hvelmag(num_time_steps, nlevels), float64 theta(num_time_steps, nlevels), float64 mueff(num_time_steps, nlevels), float64 theta'theta'_r(num_time_steps, nlevels), float64 u'theta'_r(num_time_steps, nlevels), float64 v'theta'_r(num_time_steps, nlevels), float64 w'theta'_r(num_time_steps, nlevels), float64 u'u'_r(num_time_steps, nlevels), float64 u'v'_r(num_time_steps, nlevels), float64 u'w'_r(num_time_steps, nlevels), float64 v'v'_r(num_time_steps, nlevels), float64 v'w'_r(num_time_steps, nlevels), float64 w'w'_r(num_time_steps, nlevels), float64 u'u'u'_r(num_time_steps, nlevels), float64 v'v'v'_r(num_time_steps, nlevels), float64 w'w'w'_r(num_time_steps, nlevels), float64 u'theta'_sfs(num_time_steps, nlevels), float64 v'theta'_sfs(num_time_steps, nlevels), float64 w'theta'_sfs(num_time_steps, nlevels), float64 u'v'_sfs(num_time_steps, nlevels), float64 u'w'_sfs(num_time_steps, nlevels), float64 v'w'_sfs(num_time_steps, nlevels)\n",
      "    groups: \n"
     ]
    }
   ],
   "source": [
    "print(g1)"
   ]
  },
  {
   "cell_type": "markdown",
   "metadata": {},
   "source": [
    "Need to spend some time learning how all of this works so we can make a really generic useful analysis notebook here"
   ]
  },
  {
   "cell_type": "markdown",
   "metadata": {},
   "source": [
    "## Based on post_process.py, show a mean u profile"
   ]
  },
  {
   "cell_type": "code",
   "execution_count": 11,
   "metadata": {},
   "outputs": [
    {
     "data": {
      "text/plain": [
       "<class 'netCDF4._netCDF4.Variable'>\n",
       "float64 u(num_time_steps, nlevels)\n",
       "path = /mean_profiles\n",
       "unlimited dimensions: num_time_steps\n",
       "current shape = (44000, 48)\n",
       "filling on, default _FillValue of 9.969209968386869e+36 used"
      ]
     },
     "execution_count": 11,
     "metadata": {},
     "output_type": "execute_result"
    }
   ],
   "source": [
    "u1 = g1.variables['u']\n",
    "u1"
   ]
  },
  {
   "cell_type": "code",
   "execution_count": 12,
   "metadata": {},
   "outputs": [
    {
     "data": {
      "text/plain": [
       "[<matplotlib.lines.Line2D at 0x7f34d90646a0>]"
      ]
     },
     "execution_count": 12,
     "metadata": {},
     "output_type": "execute_result"
    },
    {
     "data": {
      "image/png": "[encoded data removed]",
      "text/plain": [
       "<Figure size 640x480 with 1 Axes>"
      ]
     },
     "metadata": {},
     "output_type": "display_data"
    }
   ],
   "source": [
    "plt.plot(u1[:,11])"
   ]
  },
  {
   "cell_type": "code",
   "execution_count": 13,
   "metadata": {},
   "outputs": [
    {
     "data": {
      "text/plain": [
       "masked_array(data=[5.34856835, 6.68052662, 7.29131385, 7.67104879,\n",
       "                   7.91528557, 8.09949017, 8.25480696, 8.37823064,\n",
       "                   8.47984537, 8.56527746, 8.634128  , 8.69071863,\n",
       "                   8.73653257, 8.77739067, 8.81246233, 8.8506775 ,\n",
       "                   8.89714393, 8.95087078, 9.00739646, 9.0702856 ,\n",
       "                   9.13460859, 9.19436285, 9.24516056, 9.29292647,\n",
       "                   9.33899929, 9.38378692, 9.42566154, 9.46611416,\n",
       "                   9.50226653, 9.53012661, 9.55242054, 9.57212889,\n",
       "                   9.58924216, 9.6064368 , 9.62456155, 9.64125683,\n",
       "                   9.65729803, 9.67634062, 9.69840964, 9.72074242,\n",
       "                   9.73727211, 9.74450036, 9.74541967, 9.74851938,\n",
       "                   9.75392839, 9.7668381 , 9.78882567, 9.8166415 ],\n",
       "             mask=False,\n",
       "       fill_value=1e+20)"
      ]
     },
     "execution_count": 13,
     "metadata": {},
     "output_type": "execute_result"
    }
   ],
   "source": [
    "# avg 5-6 hrs, 5hrs -> 3600*5*2 = 36000 timesteps\n",
    "# todo, there is a time variable in netcdf file that could be used to find the correct time steps\n",
    "uavg1 = np.average(u1[35999:43199],axis=0)\n",
    "uavg1"
   ]
  },
  {
   "cell_type": "code",
   "execution_count": 14,
   "metadata": {},
   "outputs": [],
   "source": [
    "z = g1.variables[\"h\"]\n",
    "z = np.array(z)"
   ]
  },
  {
   "cell_type": "code",
   "execution_count": 15,
   "metadata": {},
   "outputs": [
    {
     "data": {
      "image/png": "[encoded data removed]",
      "text/plain": [
       "<Figure size 640x480 with 1 Axes>"
      ]
     },
     "metadata": {},
     "output_type": "display_data"
    }
   ],
   "source": [
    "fig, ax = plt.subplots()\n",
    "ax.plot(uavg1,z)\n",
    "ax.set_xlabel(\"U m/s\")\n",
    "ax.set_ylabel(\"Height [m]\")\n",
    "ax.grid(True)"
   ]
  },
  {
   "cell_type": "markdown",
   "metadata": {},
   "source": [
    "## Try new module function"
   ]
  },
  {
   "cell_type": "code",
   "execution_count": 20,
   "metadata": {},
   "outputs": [
    {
     "data": {
      "image/png": "[encoded data removed]",
      "text/plain": [
       "<Figure size 640x480 with 1 Axes>"
      ]
     },
     "metadata": {},
     "output_type": "display_data"
    }
   ],
   "source": [
    "mpp.plot_vert_vel_profile(os.path.join(case_folder,post_processing_file ),[2000,10000] )"
   ]
  }
 ],
 "metadata": {
  "kernelspec": {
   "display_name": "env_moa_python",
   "language": "python",
   "name": "env_moa_python"
  },
  "language_info": {
   "codemirror_mode": {
    "name": "ipython",
    "version": 3
   },
   "file_extension": ".py",
   "mimetype": "text/x-python",
   "name": "python",
   "nbconvert_exporter": "python",
   "pygments_lexer": "ipython3",
   "version": "3.10.4"
  }
 },
 "nbformat": 4,
 "nbformat_minor": 2
}
