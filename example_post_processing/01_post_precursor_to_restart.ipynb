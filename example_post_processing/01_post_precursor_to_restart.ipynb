{
 "cells": [
  {
   "cell_type": "markdown",
   "metadata": {},
   "source": [
    "# 03 Post processing precursors for restarts\n",
    "\n",
    "This Jupyter Notebook gives an example to post process precursor files so as to restart it with or without OpenFAST turbines.\n",
    "This notebook helps to create an AMR-Wind input file for restarting the precursor files"
   ]
  },
  {
   "cell_type": "code",
   "execution_count": 2,
   "metadata": {},
   "outputs": [],
   "source": [
    "from moa_python.post_precursor import Post_precursor\n",
    "import os\n",
    "import numpy as np\n",
    "%matplotlib notebook"
   ]
  },
  {
   "cell_type": "code",
   "execution_count": 7,
   "metadata": {},
   "outputs": [],
   "source": [
    "precursor_folder = '/scratch/jfrederi/moa_python/initial_case_studies/040_precursor_9ms/precursor'\n",
    "precursor_input_file = 'precursor.i'\n",
    "stats_file = 'post_processing/abl_statistics00000.nc'\n",
    "t_start = 7200\n",
    "t_end = 10800\n",
    "restart_input_folder = '/scratch/jfrederi/moa_python/initial_case_studies/040_precursor_9ms/00_restart/'\n",
    "restart_input_file = os.path.join(restart_input_folder,'simulation.i')"
   ]
  },
  {
   "cell_type": "code",
   "execution_count": 8,
   "metadata": {},
   "outputs": [
    {
     "name": "stdout",
     "output_type": "stream",
     "text": [
      "Creating restart input file based on precursor input file /scratch/jfrederi/moa_python/initial_case_studies/040_precursor_9ms/precursor/precursor.i.\n"
     ]
    }
   ],
   "source": [
    "abl_stats = Post_precursor(precursor_folder, precursor_input_file, restart_input_folder, restart_input_file)\n",
    "abl_stats.read_input_file('precursor')"
   ]
  },
  {
   "cell_type": "code",
   "execution_count": 9,
   "metadata": {},
   "outputs": [
    {
     "name": "stdout",
     "output_type": "stream",
     "text": [
      "ABL statistics file post_processing/abl_statistics00000.nc loaded succesfully.\n",
      "Temperature file succesfully written to '/scratch/jfrederi/moa_python/initial_case_studies/040_precursor_9ms/00_restart//avg_theta.dat'.\n"
     ]
    }
   ],
   "source": [
    "abl_stats.add_runtime_stats(stats_file, t_start, t_end)\n",
    "# bndry_file_folder = '/projects/ssc/jfrederi/precursors-amr-wind/neutral_lowti_3600s/precursor/bndry_files'\n",
    "bndry_file_folder = '/scratch/jfrederi/moa_python/initial_case_studies/070_precursor_5MW/precursor/bndry_files'\n",
    "# restart_file = '/projects/ssc/jfrederi/precursors-amr-wind/neutral_lowti_3600s/precursor/output_files/chk14400'\n",
    "restart_file = '/scratch/jfrederi/moa_python/initial_case_studies/030_precursor_neutral_v2/precursor/output_files/chk14400'\n",
    "abl_stats.general_precursor_to_restart(fixed_dt=0.05, bndry_file=bndry_file_folder, \\\n",
    "                                           periodicity=[0, 0, 0], restart_file=restart_file)"
   ]
  },
  {
   "cell_type": "code",
   "execution_count": null,
   "metadata": {},
   "outputs": [],
   "source": [
    "xbndry = [0, 5120]\n",
    "ybndry = [0, 5120]\n",
    "turb_loc = [2000, 1500, 0]\n",
    "rot_diam = 240\n",
    "hub_height = 150\n",
    "angle = 30\n",
    "abl_stats.define_flowfield_geo(xbndry, ybndry, turb_loc, rot_diam, hub_height, angle)"
   ]
  },
  {
   "cell_type": "code",
   "execution_count": null,
   "metadata": {},
   "outputs": [],
   "source": [
    "# Refinement around turbine\n",
    "x_coor_0 = [-3, 13]\n",
    "y_coor_0 = [-2, 2]\n",
    "z_coor_0 = [0, 380]\n",
    "\n",
    "x_coor_1 = [-1, 1]\n",
    "y_coor_1 = [1, -1]\n",
    "z_coor_1 = [0, 310]\n",
    "\n",
    "x_coor_2 = [4, 6]\n",
    "y_coor_2 = [1, -1]\n",
    "z_coor_2 = [0, 310]\n",
    "\n",
    "x_coor_3 = [9, 11]\n",
    "y_coor_3 = [1, -1]\n",
    "z_coor_3 = [0, 310]\n",
    "\n",
    "abl_stats.clear_refinements()\n",
    "abl_stats.apply_box_refinement('level_0', x_coor_0, y_coor_0, z_coor_0, level=0)\n",
    "abl_stats.apply_box_refinement('level_1_T1', x_coor_1, y_coor_1, z_coor_1, level=1)\n",
    "abl_stats.apply_box_refinement('level_1_T2', x_coor_2, y_coor_2, z_coor_2, level=1)\n",
    "abl_stats.apply_box_refinement('level_1_T3', x_coor_3, y_coor_3, z_coor_3, level=1)"
   ]
  },
  {
   "cell_type": "code",
   "execution_count": null,
   "metadata": {},
   "outputs": [],
   "source": [
    "plane_start = [-2, -2, 0]\n",
    "plane_end = [12, 2, 0]\n",
    "abl_stats.apply_sampling_plane(\"samplingPlane\",plane_start, plane_end, dx=4)\n",
    "slice_start = [0, 2, 0]\n",
    "slice_end = [0, -2, 300/rot_diam]\n",
    "abl_stats.apply_sampling_plane(\"samplingSlice\",slice_start, slice_end, offsets=[0,3,5,7], dx=4)"
   ]
  },
  {
   "cell_type": "code",
   "execution_count": null,
   "metadata": {},
   "outputs": [],
   "source": [
    "num_points_blade = 300\n",
    "num_points_tower = 11\n",
    "epsilon = [5.0, 5.0, 5.0]\n",
    "epsilon_tower = [5.0, 5.0, 5.0]\n",
    "start_time = 0.0\n",
    "stop_time = 500.0\n",
    "turb_dict = {'rotor_diameter': rot_diam, 'hub_height': hub_height, 'num_points_blade': num_points_blade,\n",
    "            'num_points_tower': num_points_tower, 'epsilon': epsilon, 'epsilon_tower': epsilon_tower, \n",
    "             'start_time': start_time, 'stop_time': stop_time}\n",
    "abl_stats.apply_actuator('WTG01',settings=turb_dict)#,rotor_diameter=rot_diam, hub_height=hub_height, num_points_blade=num_points_blade, num_points_tower=num_points_tower, \\\n",
    "                           #epsilon=epsilon, epsilon_tower=epsilon_tower, openfast_start_time=start_time, openfast_stop_time=stop_time)"
   ]
  },
  {
   "cell_type": "code",
   "execution_count": 10,
   "metadata": {},
   "outputs": [],
   "source": [
    "abl_stats.generate_restart_input_file()"
   ]
  },
  {
   "cell_type": "code",
   "execution_count": 6,
   "metadata": {},
   "outputs": [
    {
     "data": {
      "text/plain": [
       "['#¨¨¨¨¨¨¨¨¨¨¨¨¨¨¨¨¨¨¨¨¨¨¨¨¨¨¨¨¨¨¨¨¨¨¨¨¨¨¨#\\n',\n",
       " '#            SIMULATION STOP            #\\n',\n",
       " '#.......................................#\\n',\n",
       " 'time.stop_time                           = 10800.0     # Max (simulated) time to evolve\\n',\n",
       " 'time.max_step                            = -1          # Max number of time steps\\n',\n",
       " 'time.fixed_dt                            = 0.05\\n',\n",
       " 'time.cfl                                 = 0.95        # CFL factor\\n',\n",
       " '\\n',\n",
       " '#¨¨¨¨¨¨¨¨¨¨¨¨¨¨¨¨¨¨¨¨¨¨¨¨¨¨¨¨¨¨¨¨¨¨¨¨¨¨¨#\\n',\n",
       " '#            INPUT AND OUTPUT           #\\n',\n",
       " '#.......................................#\\n',\n",
       " 'time.plot_interval                       = 3600       # Steps between plot files\\n',\n",
       " 'time.checkpoint_interval                 = 3600       # Steps between checkpoint files\\n',\n",
       " 'io.check_file                            = \"output_files/chk\"\\n',\n",
       " 'io.plot_file                             = \"output_files/plt\"\\n',\n",
       " 'ABL.bndry_file                           = /scratch/jfrederi/moa_python/initial_case_studies/070_precursor_5MW/precursor/bndry_files\\n',\n",
       " 'ABL.bndry_io_mode                        = 1\\n',\n",
       " 'ABL.bndry_planes                         = ylo xlo\\n',\n",
       " 'ABL.bndry_output_start_time              = 7200.0\\n',\n",
       " 'ABL.bndry_var_names                      = velocity temperature\\n',\n",
       " 'ABL.bndry_output_format                  = native\\n',\n",
       " 'ABL.stats_output_frequency               = 1                   \\n',\n",
       " 'ABL.stats_output_format                  = netcdf  \\n',\n",
       " '\\n',\n",
       " '\\n',\n",
       " '#¨¨¨¨¨¨¨¨¨¨¨¨¨¨¨¨¨¨¨¨¨¨¨¨¨¨¨¨¨¨¨¨¨¨¨¨¨¨¨#\\n',\n",
       " '#               PHYSICS                 #\\n',\n",
       " '#.......................................#\\n',\n",
       " 'incflo.physics                           = ABL # Actuator\\n',\n",
       " 'io.restart_file                          = /scratch/jfrederi/moa_python/initial_case_studies/030_precursor_neutral_v2/precursor/output_files/chk14400\\n',\n",
       " 'incflo.use_godunov                       = 1\\n',\n",
       " 'incflo.godunov_type                      = weno_z\\n',\n",
       " 'turbulence.model                         = OneEqKsgsM84\\n',\n",
       " 'incflo.gravity                           = 0.  0. -9.81  # Gravitational force (3D)\\n',\n",
       " 'incflo.density                           = 1.225         # Reference density \\n',\n",
       " 'incflo.diffusion_type                    = 1\\n',\n",
       " 'transport.viscosity                      = 1.0e-5\\n',\n",
       " 'transport.laminar_prandtl                = 0.7\\n',\n",
       " 'transport.turbulent_prandtl              = 0.3333\\n',\n",
       " '\\n',\n",
       " 'incflo.verbose                           = 0          # incflo_level\\n',\n",
       " '\\n',\n",
       " '#¨¨¨¨¨¨¨¨¨¨¨¨¨¨¨¨¨¨¨¨¨¨¨¨¨¨¨¨¨¨¨¨¨¨¨¨¨¨¨#\\n',\n",
       " '#            GEOMETRY & BCs             #\\n',\n",
       " '#.......................................#\\n',\n",
       " 'geometry.prob_lo                         = 0.       0.     0.      # Lo corner coordinates\\n',\n",
       " 'geometry.prob_hi                         = 5120.  5120.  1280.     # Hi corner coordinates\\n',\n",
       " 'amr.n_cell                               = 512 512 128             # Grid cells at coarsest AMRlevel\\n',\n",
       " 'amr.max_level                            = 0                       # Max AMR level in hierarchy \\n',\n",
       " 'geometry.is_periodic                     = 0 0 0 \\n',\n",
       " 'incflo.delp                              = 0.  0.  0.              # Prescribed (cyclic) pressure gradient\\n',\n",
       " '\\n',\n",
       " '# Boundary conditions\\n',\n",
       " 'zlo.type                                 = \"wall_model\"\\n',\n",
       " 'zhi.type                                 = \"slip_wall\"\\n',\n",
       " 'zhi.temperature_type                     = \"fixed_gradient\"\\n',\n",
       " 'zhi.temperature                          = 0.003\\n',\n",
       " '\\n',\n",
       " 'xlo.type                                 = \"mass_inflow\"\\n',\n",
       " 'xlo.density                              = 1.225 \\n',\n",
       " 'xlo.temperature                          = 300.0 \\n',\n",
       " 'xlo.tke                                  = 0.0\\n',\n",
       " 'xhi.type                                 = \"pressure_outflow\"\\n',\n",
       " 'ylo.type                                 = \"mass_inflow\"\\n',\n",
       " 'ylo.density                              = 1.225 \\n',\n",
       " 'ylo.temperature                          = 300.0 \\n',\n",
       " 'ylo.tke                                  = 0.0\\n',\n",
       " 'yhi.type                                 = \"mass_inflow\"\\n',\n",
       " '#¨¨¨¨¨¨¨¨¨¨¨¨¨¨¨¨¨¨¨¨¨¨¨¨¨¨¨¨¨¨¨¨¨¨¨¨¨¨¨#\\n',\n",
       " '#        ADAPTIVE MESH REFINEMENT       #\\n',\n",
       " '#.......................................#\\n',\n",
       " '\\n',\n",
       " '\\n',\n",
       " '#¨¨¨¨¨¨¨¨¨¨¨¨¨¨¨¨¨¨¨¨¨¨¨¨¨¨¨¨¨¨¨¨¨¨¨¨¨¨¨#\\n',\n",
       " '#           BOUNDARY LAYER              #\\n',\n",
       " '#.......................................#\\n',\n",
       " 'ICNS.source_terms                        = BoussinesqBuoyancy CoriolisForcing BodyForce ABLMeanBoussinesq\\n',\n",
       " 'incflo.velocity                          = 8.66025403784 5.0 0.0\\n',\n",
       " 'ABL.inflow_outflow_mode                  = true\\n',\n",
       " 'BoussinesqBuoyancy.read_temperature_profile = true\\n',\n",
       " 'BoussinesqBuoyancy.tprofile_filename     = avg_theta.dat\\n',\n",
       " 'ABL.wf_vmag                              = 6.832794230851253\\n',\n",
       " 'ABL.wf_velocity                          = 5.786425263932045 3.618155400787926 0 \\n',\n",
       " 'ABL.wf_theta                             = 300.0000000043187\\n',\n",
       " 'BodyForce.magnitude                      = -0.0003833603919393461 0.0009265743260679656 0 \\n',\n",
       " 'ABLForcing.abl_forcing_height            = 150\\n',\n",
       " 'CoriolisForcing.latitude \\t\\t\\t\\t = 41.3\\n',\n",
       " 'BoussinesqBuoyancy.reference_temperature = 300.0\\n',\n",
       " 'ABL.reference_temperature                = 300.0\\n',\n",
       " 'ABL.temperature_heights                  = 0.0 700.0 800.0 1280.0\\n',\n",
       " 'ABL.temperature_values                   = 300.0 300.0 308.0 309.44\\n',\n",
       " 'ABL.perturb_temperature                  = false\\n',\n",
       " 'ABL.cutoff_height                        = 50.0\\n',\n",
       " 'ABL.perturb_velocity                     = true\\n',\n",
       " 'ABL.perturb_ref_height                   = 50.0\\n',\n",
       " 'ABL.Uperiods                             = 25.0\\n',\n",
       " 'ABL.Vperiods                             = 25.0\\n',\n",
       " 'ABL.deltaU                               = 1.0\\n',\n",
       " 'ABL.deltaV                               = 1.0\\n',\n",
       " 'ABL.kappa                                = .40\\n',\n",
       " 'ABL.surface_roughness_z0                 = 2.0E-4\\n',\n",
       " 'ABL.surface_temp_flux                    = 0.00\\n',\n",
       " 'ABL.normal_direction                     = 2\\n',\n",
       " 'ABL.wall_shear_stress_type               = \"local\"\\n',\n",
       " '\\n',\n",
       " '# Whether to use helics\\n',\n",
       " 'helics.activated                         = false\\n',\n",
       " '\\n',\n",
       " '#¨¨¨¨¨¨¨¨¨¨¨¨¨¨¨¨¨¨¨¨¨¨¨¨¨¨¨¨¨¨¨¨¨¨¨¨¨¨¨#\\n',\n",
       " '#              SAMPLING                 #\\n',\n",
       " '#.......................................#\\n',\n",
       " 'incflo.post_processing                   = samplingPlane samplingLine\\n',\n",
       " '\\n',\n",
       " 'samplingPlane.output_frequency           = 10\\n',\n",
       " 'samplingPlane.labels                     = z_plane\\n',\n",
       " 'samplingPlane.fields                     = velocity temperature\\n',\n",
       " 'samplingPlane.z_plane.type               = PlaneSampler\\n',\n",
       " 'samplingPlane.z_plane.axis1              = 5110 0.0 0.0\\n',\n",
       " 'samplingPlane.z_plane.axis2              = 0.0 5110 0.0\\n',\n",
       " 'samplingPlane.z_plane.origin             = 5.0 5.0 0.0\\n',\n",
       " 'samplingPlane.z_plane.num_points         = 512 512\\n',\n",
       " 'samplingPlane.z_plane.normal             = 0.0 0.0 1.0\\n',\n",
       " 'samplingPlane.z_plane.offsets            = 5.0 90.0 150.0 255.0\\n',\n",
       " '\\n',\n",
       " 'samplingLine.output_frequency            = 1\\n',\n",
       " 'samplingLine.labels                      = z_line\\n',\n",
       " 'samplingLine.fields                      = velocity temperature\\n',\n",
       " 'samplingLine.z_line.type                 = LineSampler\\n',\n",
       " 'samplingLine.z_line.num_points           = 128\\n',\n",
       " 'samplingLine.z_line.start                = 5.0 5.0 5.0\\n',\n",
       " 'samplingLine.z_line.end                  = 5.0 5.0 1275.0\\n']"
      ]
     },
     "execution_count": 6,
     "metadata": {},
     "output_type": "execute_result"
    }
   ],
   "source": [
    "abl_stats.input_file"
   ]
  },
  {
   "cell_type": "code",
   "execution_count": null,
   "metadata": {},
   "outputs": [],
   "source": [
    "abl_stats.actuators"
   ]
  },
  {
   "cell_type": "code",
   "execution_count": null,
   "metadata": {
    "scrolled": true
   },
   "outputs": [],
   "source": [
    "for key, value in turb_dict.items():\n",
    "    print(key)\n",
    "    print(value)"
   ]
  },
  {
   "cell_type": "code",
   "execution_count": null,
   "metadata": {},
   "outputs": [],
   "source": [
    "import matplotlib.pyplot as plt\n",
    "ax = plt.gca()\n",
    "ax.plot(4078.46096908, 2700, 'bo')"
   ]
  },
  {
   "cell_type": "code",
   "execution_count": null,
   "metadata": {},
   "outputs": [],
   "source": []
  }
 ],
 "metadata": {
  "kernelspec": {
   "display_name": "env_moa_python",
   "language": "python",
   "name": "env_moa_python"
  },
  "language_info": {
   "codemirror_mode": {
    "name": "ipython",
    "version": 3
   },
   "file_extension": ".py",
   "mimetype": "text/x-python",
   "name": "python",
   "nbconvert_exporter": "python",
   "pygments_lexer": "ipython3",
   "version": "3.10.8"
  }
 },
 "nbformat": 4,
 "nbformat_minor": 2
}
